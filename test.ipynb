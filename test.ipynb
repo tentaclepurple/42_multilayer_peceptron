{
 "cells": [
  {
   "cell_type": "code",
   "execution_count": 1,
   "metadata": {},
   "outputs": [],
   "source": [
    "from utils.MLP import MLPSequential\n",
    "import numpy as np\n",
    "import matplotlib.pyplot as plt\n",
    "from utils.preprocess import get_df, set_data_for_model\n",
    "import seaborn as sns\n",
    "\n",
    "import pandas as pd\n"
   ]
  },
  {
   "cell_type": "code",
   "execution_count": 4,
   "metadata": {},
   "outputs": [
    {
     "name": "stdout",
     "output_type": "stream",
     "text": [
      "Added layer with 24 neurons and relu activation.\n",
      "Added layer with 24 neurons and relu activation.\n",
      "Added layer with 24 neurons and relu activation.\n",
      "Added layer with 2 neurons and softmax activation.\n",
      "Model compiled successfully.\n"
     ]
    }
   ],
   "source": [
    "data_path = 'data/data.csv'\n",
    "df = get_df(data_path)\n",
    "\n",
    "X_train, X_valid, y_train, y_valid = set_data_for_model(df, 42)\n",
    "\n",
    "# Convertir etiquetas a one-hot encoding\n",
    "#y_train_one_hot = np.eye(2)[y_train]\n",
    "#y_valid_one_hot = np.eye(2)[y_valid]\n",
    "\n",
    "input_size = X_train.shape[1]\n",
    "\n",
    "# Supongamos que ya hemos creado un modelo con las capas que deseamos\n",
    "model = MLPSequential(input_size)\n",
    "\n",
    "# Añadir capas: una capa oculta de 3 neuronas con activación 'relu'\n",
    "model.add(24, 'relu')\n",
    "model.add(24, 'relu')\n",
    "model.add(24, 'relu')\n",
    "model.add(2, 'softmax')\n",
    "\n",
    "# Compilar el modelo para inicializar pesos y sesgos\n",
    "model.compile()\n",
    "#model.plot_loss()\n",
    "#model.plot_accuracy()\n"
   ]
  },
  {
   "cell_type": "code",
   "execution_count": 5,
   "metadata": {},
   "outputs": [
    {
     "name": "stdout",
     "output_type": "stream",
     "text": [
      "Test Loss: 0.5724 - Test Accuracy: 0.7807\n"
     ]
    },
    {
     "data": {
      "text/plain": [
       "(0.572401009427938, 0.7807017543859649)"
      ]
     },
     "execution_count": 5,
     "metadata": {},
     "output_type": "execute_result"
    }
   ],
   "source": [
    "model.evaluate(X_valid, y_valid)"
   ]
  },
  {
   "cell_type": "code",
   "execution_count": 6,
   "metadata": {},
   "outputs": [
    {
     "name": "stdout",
     "output_type": "stream",
     "text": [
      "Epoch 1/10 - loss: 0.5779 - val_loss: 0.5357 - accuracy: 0.7956 - val_accuracy: 0.8509\n",
      "Epoch 2/10 - loss: 0.5428 - val_loss: 0.5053 - accuracy: 0.8527 - val_accuracy: 0.8947\n",
      "Epoch 3/10 - loss: 0.5134 - val_loss: 0.4785 - accuracy: 0.8813 - val_accuracy: 0.8947\n",
      "Epoch 4/10 - loss: 0.4876 - val_loss: 0.4545 - accuracy: 0.8923 - val_accuracy: 0.9123\n",
      "Epoch 5/10 - loss: 0.4644 - val_loss: 0.4329 - accuracy: 0.9209 - val_accuracy: 0.9123\n",
      "Epoch 6/10 - loss: 0.4434 - val_loss: 0.4137 - accuracy: 0.9341 - val_accuracy: 0.9211\n",
      "Epoch 7/10 - loss: 0.4244 - val_loss: 0.3962 - accuracy: 0.9473 - val_accuracy: 0.9211\n",
      "Epoch 8/10 - loss: 0.4071 - val_loss: 0.3803 - accuracy: 0.9516 - val_accuracy: 0.9298\n",
      "Epoch 9/10 - loss: 0.3911 - val_loss: 0.3656 - accuracy: 0.9516 - val_accuracy: 0.9298\n",
      "Epoch 10/10 - loss: 0.3763 - val_loss: 0.3520 - accuracy: 0.9516 - val_accuracy: 0.9298\n",
      "Training finished.\n"
     ]
    }
   ],
   "source": [
    "model.fit(X_train, y_train, epochs=10, learning_rate=0.035, validation_data=(X_valid, y_valid), early_stopping_patience=5)"
   ]
  },
  {
   "cell_type": "code",
   "execution_count": 7,
   "metadata": {},
   "outputs": [
    {
     "name": "stdout",
     "output_type": "stream",
     "text": [
      "Predicciones en los datos de validación: [0 1 1 0 0 1 1 1 0 0 0 1 1 0 0 1 0 0 0 1 0 0 1 0 0 0 0 0 0 1 0 0 0 0 0 0 1\n",
      " 0 1 0 0 1 0 0 0 0 0 0 0 0 1 1 1 0 0 0 0 1 1 0 0 1 1 1 0 0 1 1 0 0 1 1 0 1\n",
      " 0 0 0 0 0 0 1 0 0 1 1 1 1 1 0 0 0 1 0 0 0 0 1 1 0 1 1 0 1 1 0 0 0 1 0 0 1\n",
      " 0 0 1]\n"
     ]
    }
   ],
   "source": [
    "# Suponiendo que ya tienes el modelo entrenado\n",
    "\n",
    "# Probar el método predict con X_valid para verificar el funcionamiento\n",
    "y_valid_pred = model.predict(X_valid)\n",
    "print(\"Predicciones en los datos de validación:\", y_valid_pred)"
   ]
  }
 ],
 "metadata": {
  "kernelspec": {
   "display_name": "Python 3",
   "language": "python",
   "name": "python3"
  },
  "language_info": {
   "codemirror_mode": {
    "name": "ipython",
    "version": 3
   },
   "file_extension": ".py",
   "mimetype": "text/x-python",
   "name": "python",
   "nbconvert_exporter": "python",
   "pygments_lexer": "ipython3",
   "version": "3.12.5"
  }
 },
 "nbformat": 4,
 "nbformat_minor": 2
}
